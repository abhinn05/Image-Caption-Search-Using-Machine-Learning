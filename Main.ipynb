{
 "cells": [
  {
   "cell_type": "code",
   "execution_count": 1,
   "metadata": {},
   "outputs": [
    {
     "name": "stdout",
     "output_type": "stream",
     "text": [
      "Overwriting app.py\n"
     ]
    }
   ],
   "source": [
    "%%writefile app.py\n",
    "import streamlit as st\n",
    "from transformers import BlipProcessor, BlipForConditionalGeneration\n",
    "from PIL import Image\n",
    "import requests\n",
    "from io import BytesIO\n",
    "from serpapi import GoogleSearch\n",
    "st.set_page_config(page_title=\"Image Caption & Search\", layout=\"centered\")\n",
    "st.title(\"Image Caption Generator & Image Search\")\n",
    "image_url = st.text_input(\"Enter the image URL:\")\n",
    "if image_url:\n",
    "    processor = BlipProcessor.from_pretrained(\"Salesforce/blip-image-captioning-base\")\n",
    "    model = BlipForConditionalGeneration.from_pretrained(\"Salesforce/blip-image-captioning-base\")\n",
    "\n",
    "    headers = {\n",
    "        \"User-Agent\": \"MyBot/1.0 (MyContactInformation@example.com)\"\n",
    "    }\n",
    "\n",
    "    try:\n",
    "\n",
    "        response = requests.get(image_url, stream=True, headers=headers)\n",
    "        response.raise_for_status()\n",
    "\n",
    "\n",
    "        img = Image.open(BytesIO(response.content))\n",
    "        st.image(img, caption=\"Uploaded Image\", use_column_width=True)\n",
    "\n",
    "\n",
    "        inputs = processor(images=img, return_tensors=\"pt\")\n",
    "\n",
    "\n",
    "        outputs = model.generate(**inputs)\n",
    "        summary = processor.decode(outputs[0], skip_special_tokens=True)\n",
    "\n",
    "\n",
    "        st.write(f\"Generated summary: *{summary}*\")\n",
    "\n",
    "\n",
    "        query = st.text_input(\"Enter your search query:\")\n",
    "\n",
    "        if query:\n",
    "    \n",
    "            web_query = summary + \" \" + query\n",
    "\n",
    "    \n",
    "            api_key = \"###################################################YOUR_API_KEY############################################\"\n",
    "\n",
    "    \n",
    "            params = {\n",
    "                \"q\": web_query,\n",
    "                \"tbm\": \"isch\",\n",
    "                \"api_key\": api_key\n",
    "            }\n",
    "\n",
    "    \n",
    "            search = GoogleSearch(params)\n",
    "\n",
    "    \n",
    "            results = search.get_dict()\n",
    "\n",
    "    \n",
    "            st.subheader(\"Search Results:\")\n",
    "            if 'images_results' in results:\n",
    "                for image_result in results['images_results']:\n",
    "                    st.image(image_result['original'], caption=image_result['title'], use_column_width=True)\n",
    "                    st.write(f\"Image URL: {image_result['original']}\")\n",
    "            else:\n",
    "                st.write(\"No image results found.\")\n",
    "\n",
    "    except Exception as e:\n",
    "        st.error(f\"Error fetching the image: {e}\")\n",
    "else:\n",
    "    st.write(\"Please enter an image URL to get started.\")"
   ]
  }
 ],
 "metadata": {
  "kernelspec": {
   "display_name": "Python 3",
   "language": "python",
   "name": "python3"
  },
  "language_info": {
   "codemirror_mode": {
    "name": "ipython",
    "version": 3
   },
   "file_extension": ".py",
   "mimetype": "text/x-python",
   "name": "python",
   "nbconvert_exporter": "python",
   "pygments_lexer": "ipython3",
   "version": "3.12.4"
  }
 },
 "nbformat": 4,
 "nbformat_minor": 2
}
